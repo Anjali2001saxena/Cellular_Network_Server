{
 "cells": [
  {
   "cell_type": "code",
   "execution_count": 1,
   "metadata": {},
   "outputs": [],
   "source": [
    "import shelve"
   ]
  },
  {
   "cell_type": "code",
   "execution_count": 11,
   "metadata": {},
   "outputs": [],
   "source": [
    "class Student:\n",
    "    def __init__(self,name, age):\n",
    "        self.name=name\n",
    "        self.age= age\n",
    "        \n",
    "student = Student(\"Anjali\", 18)\n",
    "student2 = Student(\"Khushi\", 19)"
   ]
  },
  {
   "cell_type": "code",
   "execution_count": 12,
   "metadata": {},
   "outputs": [],
   "source": [
    "s = shelve.open(\"test\")\n",
    "s['0'] = student\n",
    "s['1'] = student2"
   ]
  },
  {
   "cell_type": "code",
   "execution_count": 13,
   "metadata": {},
   "outputs": [
    {
     "name": "stdout",
     "output_type": "stream",
     "text": [
      "Anjali\n",
      "Khushi\n"
     ]
    }
   ],
   "source": [
    "for k in s.keys():\n",
    "    obj = s[k]\n",
    "    print(obj.name)"
   ]
  },
  {
   "cell_type": "code",
   "execution_count": 16,
   "metadata": {},
   "outputs": [
    {
     "name": "stdout",
     "output_type": "stream",
     "text": [
      "Anjali\n",
      "Rachna\n"
     ]
    }
   ],
   "source": [
    "stu = s['1']\n",
    "stu.name = \"Rachna\"\n",
    "s['1'] = stu\n",
    "for k in s.keys():\n",
    "    obj = s[k]\n",
    "    print(obj.name)"
   ]
  },
  {
   "cell_type": "code",
   "execution_count": null,
   "metadata": {},
   "outputs": [],
   "source": []
  }
 ],
 "metadata": {
  "kernelspec": {
   "display_name": "Python 3",
   "language": "python",
   "name": "python3"
  },
  "language_info": {
   "codemirror_mode": {
    "name": "ipython",
    "version": 3
   },
   "file_extension": ".py",
   "mimetype": "text/x-python",
   "name": "python",
   "nbconvert_exporter": "python",
   "pygments_lexer": "ipython3",
   "version": "3.8.5"
  }
 },
 "nbformat": 4,
 "nbformat_minor": 4
}
